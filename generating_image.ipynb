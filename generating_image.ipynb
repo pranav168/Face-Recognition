{
 "cells": [
  {
   "cell_type": "code",
   "execution_count": 7,
   "metadata": {},
   "outputs": [
    {
     "name": "stdout",
     "output_type": "stream",
     "text": [
      "Collecting pandas\n",
      "  Using cached pandas-1.3.5-cp37-cp37m-win_amd64.whl (10.0 MB)\n",
      "Requirement already satisfied: numpy>=1.17.3 in c:\\users\\pranav.singhal\\anaconda3\\envs\\cnn_model\\lib\\site-packages (from pandas) (1.21.5)\n",
      "Requirement already satisfied: python-dateutil>=2.7.3 in c:\\users\\pranav.singhal\\anaconda3\\envs\\cnn_model\\lib\\site-packages (from pandas) (2.8.2)\n",
      "Collecting pytz>=2017.3\n",
      "  Using cached pytz-2021.3-py2.py3-none-any.whl (503 kB)\n",
      "Requirement already satisfied: six>=1.5 in c:\\users\\pranav.singhal\\anaconda3\\envs\\cnn_model\\lib\\site-packages (from python-dateutil>=2.7.3->pandas) (1.16.0)\n",
      "Installing collected packages: pytz, pandas\n",
      "Successfully installed pandas-1.3.5 pytz-2021.3\n",
      "Collecting pandas\n",
      "  Using cached pandas-1.3.5-cp37-cp37m-win_amd64.whl (10.0 MB)\n",
      "Requirement already satisfied: numpy>=1.17.3 in c:\\users\\pranav.singhal\\anaconda3\\envs\\cnn_model\\lib\\site-packages (from pandas) (1.21.5)\n",
      "Requirement already satisfied: pytz>=2017.3 in c:\\users\\pranav.singhal\\anaconda3\\envs\\cnn_model\\lib\\site-packages (from pandas) (2021.3)\n",
      "Requirement already satisfied: python-dateutil>=2.7.3 in c:\\users\\pranav.singhal\\anaconda3\\envs\\cnn_model\\lib\\site-packages (from pandas) (2.8.2)\n",
      "Requirement already satisfied: six>=1.5 in c:\\users\\pranav.singhal\\anaconda3\\envs\\cnn_model\\lib\\site-packages (from python-dateutil>=2.7.3->pandas) (1.16.0)\n",
      "Installing collected packages: pandas\n",
      "Successfully installed pandas-1.3.5\n"
     ]
    }
   ],
   "source": [
    "# !pip install tqdm\n",
    "# !pip install mxnet\n",
    "# !pip install tensorflow\n",
    "# !pip install tensorflow-addons\n",
    "# !pip install glob2\n",
    "# !pip install pandas"
   ]
  },
  {
   "cell_type": "code",
   "execution_count": 8,
   "metadata": {},
   "outputs": [],
   "source": [
    "import os\n",
    "import glob2\n",
    "import numpy as np\n",
    "import pandas as pd\n",
    "import tensorflow as tf"
   ]
  },
  {
   "cell_type": "code",
   "execution_count": null,
   "metadata": {},
   "outputs": [],
   "source": [
    "import os\n",
    "import numpy as np\n",
    "import mxnet as mx\n",
    "from tqdm import tqdm\n",
    "\n",
    "read_dir = 'faces_emore/faces_emore'\n",
    "save_dir = 'faces_emore_112x112_folders'\n",
    "idx_path = os.path.join(read_dir, 'train.idx')\n",
    "bin_path = os.path.join(read_dir, 'train.rec')\n",
    "\n",
    "imgrec = mx.recordio.MXIndexedRecordIO(idx_path, bin_path, 'r')\n",
    "rec_header, _ = mx.recordio.unpack(imgrec.read_idx(0))\n",
    "\n",
    "for ii in tqdm(range(1, int(rec_header.label[0]))):\n",
    "    img_info = imgrec.read_idx(ii)\n",
    "    header, img = mx.recordio.unpack(img_info)\n",
    "    img_idx = str(int(np.sum(header.label)))\n",
    "    img_save_dir = os.path.join(save_dir, img_idx)\n",
    "    if not os.path.exists(img_save_dir):\n",
    "        os.makedirs(img_save_dir)\n",
    "    # print(os.path.join(img_save_dir, str(ii) + '.jpg'))\n",
    "    with open(os.path.join(img_save_dir, str(ii) + '.jpg'), 'wb') as ff:\n",
    "        ff.write(img)"
   ]
  }
 ],
 "metadata": {
  "interpreter": {
   "hash": "17550ac8078faced11f9688ff869347926c18aae43f01dd02033f253c0c1e38e"
  },
  "kernelspec": {
   "display_name": "Python 3.7.11 ('FaceRecognination')",
   "language": "python",
   "name": "python3"
  },
  "language_info": {
   "codemirror_mode": {
    "name": "ipython",
    "version": 3
   },
   "file_extension": ".py",
   "mimetype": "text/x-python",
   "name": "python",
   "nbconvert_exporter": "python",
   "pygments_lexer": "ipython3",
   "version": "3.7.11"
  },
  "orig_nbformat": 4
 },
 "nbformat": 4,
 "nbformat_minor": 2
}
